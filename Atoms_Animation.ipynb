{
 "cells": [
  {
   "cell_type": "markdown",
   "metadata": {},
   "source": [
    "# Reading XTC-trajectory Files"
   ]
  },
  {
   "cell_type": "markdown",
   "metadata": {},
   "source": [
    "## Using MDTraj Library"
   ]
  },
  {
   "cell_type": "markdown",
   "metadata": {},
   "source": [
    "### by Andrew Mytko"
   ]
  },
  {
   "cell_type": "markdown",
   "metadata": {},
   "source": [
    "#### 2015-09-12"
   ]
  },
  {
   "cell_type": "markdown",
   "metadata": {},
   "source": [
    "ЗАДАЧА: Прочитать файл формата XTC и построить анимацию движения молекул этого файла."
   ]
  },
  {
   "cell_type": "code",
   "execution_count": 5,
   "metadata": {
    "collapsed": true
   },
   "outputs": [],
   "source": [
    "# Запуск кода, обеспчивающего анимацию внутри (inline) блокнота путём сохранения во временный файл на компьюетере\n",
    "# и отображения через HTML - занимает место и время.\n",
    "\n",
    "# %run Embedded_Animation.ipynb"
   ]
  },
  {
   "cell_type": "markdown",
   "metadata": {},
   "source": [
    "Импорт библиотек для отображения графиков и анимации."
   ]
  },
  {
   "cell_type": "code",
   "execution_count": 6,
   "metadata": {
    "collapsed": false
   },
   "outputs": [],
   "source": [
    "import numpy as np\n",
    "import mpl_toolkits.mplot3d.axes3d as p3\n",
    "import matplotlib.pyplot as plt\n",
    "import matplotlib.animation as animation"
   ]
  },
  {
   "cell_type": "markdown",
   "metadata": {},
   "source": [
    "Импорт библиотеки MDTraj для анализа траекторий (http://mdtraj.org)."
   ]
  },
  {
   "cell_type": "code",
   "execution_count": 7,
   "metadata": {
    "collapsed": true
   },
   "outputs": [],
   "source": [
    "import mdtraj"
   ]
  },
  {
   "cell_type": "markdown",
   "metadata": {},
   "source": [
    "Стандартный способ анлиза траекторий согласно документации библиотеки (аналогично MDAnalysis) - использование двух файлов: топологии и траектории. В топологии содержится информация о самих атомах, а в траектории - только координаты движения каждого атома по кадрам и временные промежутки между ними."
   ]
  },
  {
   "cell_type": "markdown",
   "metadata": {},
   "source": [
    "В данной задаче имеется только файл траектории (XTC).\n",
    "Поэтому используется только интерфейс для работы с XTC-файлом."
   ]
  },
  {
   "cell_type": "code",
   "execution_count": 8,
   "metadata": {
    "collapsed": false
   },
   "outputs": [
    {
     "ename": "OSError",
     "evalue": "The file 'traj_120bar_640K.xtc' doesn't exist",
     "output_type": "error",
     "traceback": [
      "\u001b[1;31m---------------------------------------------------------------------------\u001b[0m",
      "\u001b[1;31mOSError\u001b[0m                                   Traceback (most recent call last)",
      "\u001b[1;32m<ipython-input-8-9662ff4b1ef8>\u001b[0m in \u001b[0;36m<module>\u001b[1;34m()\u001b[0m\n\u001b[0;32m      1\u001b[0m \u001b[0mpath\u001b[0m \u001b[1;33m=\u001b[0m \u001b[1;34m'traj_120bar_640K.xtc'\u001b[0m\u001b[1;33m\u001b[0m\u001b[0m\n\u001b[1;32m----> 2\u001b[1;33m \u001b[0mxtc\u001b[0m \u001b[1;33m=\u001b[0m \u001b[0mmdtraj\u001b[0m\u001b[1;33m.\u001b[0m\u001b[0mformats\u001b[0m\u001b[1;33m.\u001b[0m\u001b[0mXTCTrajectoryFile\u001b[0m\u001b[1;33m(\u001b[0m\u001b[0mpath\u001b[0m\u001b[1;33m)\u001b[0m\u001b[1;33m\u001b[0m\u001b[0m\n\u001b[0m",
      "\u001b[1;32mxtc.pyx\u001b[0m in \u001b[0;36mxtc.XTCTrajectoryFile.__cinit__ (mdtraj/formats/xtc/xtc.c:2470)\u001b[1;34m()\u001b[0m\n",
      "\u001b[1;31mOSError\u001b[0m: The file 'traj_120bar_640K.xtc' doesn't exist"
     ]
    }
   ],
   "source": [
    "path = 'traj_120bar_640K.xtc'\n",
    "xtc = mdtraj.formats.XTCTrajectoryFile(path)"
   ]
  },
  {
   "cell_type": "code",
   "execution_count": null,
   "metadata": {
    "collapsed": false
   },
   "outputs": [],
   "source": [
    "%time len(xtc) # пробег по всем кадрам файла"
   ]
  },
  {
   "cell_type": "markdown",
   "metadata": {},
   "source": [
    "Время первого пробега по кадрам у MDAnalysis и MDTraj - примерно одинаковое согласно проведённым [мной] тестам."
   ]
  },
  {
   "cell_type": "code",
   "execution_count": null,
   "metadata": {
    "collapsed": false
   },
   "outputs": [],
   "source": [
    "xtc.seek(0) # возвращение к первому кадру\n",
    "len(xtc.read(1)[0][0]) # количество атомов"
   ]
  },
  {
   "cell_type": "markdown",
   "metadata": {},
   "source": [
    "Инициализация фигуры и осей для работы с графиком."
   ]
  },
  {
   "cell_type": "code",
   "execution_count": null,
   "metadata": {
    "collapsed": false
   },
   "outputs": [],
   "source": [
    "fig = plt.figure()\n",
    "ax = p3.Axes3D(fig)"
   ]
  },
  {
   "cell_type": "markdown",
   "metadata": {},
   "source": [
    "Создание графиков для каждого атома в виде точки (для последущего изменения координат).\n",
    "Отобразим первые 1000 атомов из 18000."
   ]
  },
  {
   "cell_type": "code",
   "execution_count": null,
   "metadata": {
    "collapsed": false
   },
   "outputs": [],
   "source": [
    "first_n = 1000\n",
    "points = [ax.plot([], [], [],'go')[0] for i in range(first_n)]"
   ]
  },
  {
   "cell_type": "markdown",
   "metadata": {},
   "source": [
    "Функции инициализации и обновления данных для анимации."
   ]
  },
  {
   "cell_type": "code",
   "execution_count": null,
   "metadata": {
    "collapsed": false
   },
   "outputs": [],
   "source": [
    "def init():\n",
    "    \"\"\" Animation initialization function.\n",
    "        Seeks first frame in XTC-file and reads it.\n",
    "        Initializes coordiantes of atoms to draw.\n",
    "    \"\"\"\n",
    "    xtc.seek(0)\n",
    "    xyz, = xtc.read(1)[0] # there are some other data in one xtc-frame\n",
    "    for k in range(first_n):\n",
    "        points[k].set_data(xyz[k,0], xyz[k,1])\n",
    "        points[k].set_3d_properties(xyz[k,2])\n",
    "    return points    "
   ]
  },
  {
   "cell_type": "code",
   "execution_count": null,
   "metadata": {
    "collapsed": true
   },
   "outputs": [],
   "source": [
    "def update(i):\n",
    "    \"\"\" Animation updating function.\n",
    "        Reads next frame and updates coordiantes of atoms.\n",
    "    \"\"\"\n",
    "    xyz, = xtc.read(1)[0]\n",
    "    for k in range(first_n):\n",
    "        points[k].set_data(xyz[k,0], xyz[k,1])\n",
    "        points[k].set_3d_properties(xyz[k,2])\n",
    "    return points"
   ]
  },
  {
   "cell_type": "markdown",
   "metadata": {},
   "source": [
    "Настройка графических параметров."
   ]
  },
  {
   "cell_type": "code",
   "execution_count": null,
   "metadata": {
    "collapsed": false
   },
   "outputs": [],
   "source": [
    "ax.set_title('Molecular Dynamics')\n",
    "\n",
    "ax.set_xlim3d([-5, 40])\n",
    "ax.set_xlabel('X')\n",
    "\n",
    "ax.set_ylim3d([-5, 40])\n",
    "ax.set_ylabel('Y')\n",
    "\n",
    "ax.set_zlim3d([-5, 40])\n",
    "ax.set_zlabel('Z')"
   ]
  },
  {
   "cell_type": "markdown",
   "metadata": {},
   "source": [
    "Создание объекта анимации (1000 кадров)."
   ]
  },
  {
   "cell_type": "code",
   "execution_count": null,
   "metadata": {
    "collapsed": false
   },
   "outputs": [],
   "source": [
    "mol_ani = animation.FuncAnimation(fig, func=update, init_func=init, frames=1000, interval=30, blit=False)"
   ]
  },
  {
   "cell_type": "markdown",
   "metadata": {},
   "source": [
    "Анимация."
   ]
  },
  {
   "cell_type": "code",
   "execution_count": null,
   "metadata": {
    "collapsed": false
   },
   "outputs": [],
   "source": [
    "plt.show(mol_ani)"
   ]
  },
  {
   "cell_type": "code",
   "execution_count": null,
   "metadata": {
    "collapsed": false,
    "scrolled": true
   },
   "outputs": [],
   "source": [
    "# Для отображения анимации внутри (inline) документа можно использовать следующую функцию \n",
    "# после запуска Embedded_Animation.ipynb\n",
    "\n",
    "# display_animation(mol_ani)"
   ]
  }
 ],
 "metadata": {
  "kernelspec": {
   "display_name": "Python 3",
   "language": "python",
   "name": "python3"
  },
  "language_info": {
   "codemirror_mode": {
    "name": "ipython",
    "version": 3
   },
   "file_extension": ".py",
   "mimetype": "text/x-python",
   "name": "python",
   "nbconvert_exporter": "python",
   "pygments_lexer": "ipython3",
   "version": "3.4.3"
  }
 },
 "nbformat": 4,
 "nbformat_minor": 0
}
