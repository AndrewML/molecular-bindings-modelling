{
 "cells": [
  {
   "cell_type": "code",
   "execution_count": 1,
   "metadata": {
    "collapsed": true
   },
   "outputs": [],
   "source": [
    "import numpy as np\n",
    "import matplotlib.pyplot as plt\n",
    "import matplotlib.animation as animation\n",
    "from mpl_toolkits.mplot3d import axes3d"
   ]
  },
  {
   "cell_type": "code",
   "execution_count": 2,
   "metadata": {
    "collapsed": true
   },
   "outputs": [],
   "source": [
    "import mdtraj\n",
    "from sklearn.cluster import DBSCAN\n",
    "from collections import Counter"
   ]
  },
  {
   "cell_type": "code",
   "execution_count": 3,
   "metadata": {
    "collapsed": true
   },
   "outputs": [],
   "source": [
    "xtc = mdtraj.formats.XTCTrajectoryFile(\"traj_120bar_640K.xtc\")"
   ]
  },
  {
   "cell_type": "code",
   "execution_count": 4,
   "metadata": {
    "collapsed": true
   },
   "outputs": [],
   "source": [
    "def seek_start(xtc):\n",
    "    \"\"\" Seeks 0 position of the trajectory. \"\"\"\n",
    "    xtc.seek(0)"
   ]
  },
  {
   "cell_type": "code",
   "execution_count": 5,
   "metadata": {
    "collapsed": true
   },
   "outputs": [],
   "source": [
    "def read_xyz(xtc, n=1):\n",
    "    \"\"\" Reads only coordinates of n frames. \"\"\"\n",
    "    return xtc.read(n)[0][0]"
   ]
  },
  {
   "cell_type": "code",
   "execution_count": 6,
   "metadata": {
    "collapsed": true
   },
   "outputs": [],
   "source": [
    "xyz = read_xyz(xtc)\n",
    "n_frames = len(xtc)\n",
    "n_atoms = len(xyz)"
   ]
  },
  {
   "cell_type": "code",
   "execution_count": 7,
   "metadata": {
    "collapsed": false
   },
   "outputs": [
    {
     "data": {
      "text/plain": [
       "DBSCAN(algorithm='auto', eps=0.0143, leaf_size=30, metric='euclidean',\n",
       "    min_samples=2, p=None, random_state=None)"
      ]
     },
     "execution_count": 7,
     "metadata": {},
     "output_type": "execute_result"
    }
   ],
   "source": [
    "eps = 0.0143\n",
    "min_samples = 2\n",
    "db = DBSCAN(eps, min_samples)\n",
    "db.fit(xyz)"
   ]
  },
  {
   "cell_type": "code",
   "execution_count": 8,
   "metadata": {
    "collapsed": true
   },
   "outputs": [],
   "source": [
    "def clusters_number(model):\n",
    "    \"\"\" Returns number of clusters found in the model. \"\"\"\n",
    "    c = Counter(model.labels_)\n",
    "    return len(c) - 1"
   ]
  },
  {
   "cell_type": "code",
   "execution_count": 9,
   "metadata": {
    "collapsed": true
   },
   "outputs": [],
   "source": [
    "def clusters_atoms_number(model):\n",
    "    \"\"\" Returns number of atoms in clusters found in the model. \"\"\"\n",
    "    c = model.core_sample_indices_\n",
    "    return len(c)"
   ]
  },
  {
   "cell_type": "code",
   "execution_count": 10,
   "metadata": {
    "collapsed": false
   },
   "outputs": [
    {
     "data": {
      "text/plain": [
       "0"
      ]
     },
     "execution_count": 10,
     "metadata": {},
     "output_type": "execute_result"
    }
   ],
   "source": [
    "clusters_number(db)"
   ]
  },
  {
   "cell_type": "code",
   "execution_count": 11,
   "metadata": {
    "collapsed": false
   },
   "outputs": [
    {
     "data": {
      "text/plain": [
       "0"
      ]
     },
     "execution_count": 11,
     "metadata": {},
     "output_type": "execute_result"
    }
   ],
   "source": [
    "clusters_atoms_number(db)"
   ]
  },
  {
   "cell_type": "code",
   "execution_count": 12,
   "metadata": {
    "collapsed": true
   },
   "outputs": [],
   "source": [
    "def set_axes(ax):\n",
    "    \"\"\" Sets appropriate parameters of the axes \"\"\"\n",
    "    ax.patch.set_facecolor('white')\n",
    "    ax.patch.set_alpha(0)\n",
    "    ax.set_xlim3d([-5, 40])\n",
    "    ax.set_ylim3d([-5, 40])\n",
    "    ax.set_zlim3d([-5, 40])\n",
    "    ax.set_xlabel('X')\n",
    "    ax.set_ylabel('Y')\n",
    "    ax.set_zlabel('Z')\n",
    "    return ax"
   ]
  },
  {
   "cell_type": "code",
   "execution_count": 13,
   "metadata": {
    "collapsed": true
   },
   "outputs": [],
   "source": [
    "def init(points):\n",
    "    \"\"\" Animation initialization function.\n",
    "        Seeks first frame.\n",
    "    \"\"\"\n",
    "    points = ax.plot([], [], [],'go')[0]\n",
    "    return points"
   ]
  },
  {
   "cell_type": "code",
   "execution_count": 14,
   "metadata": {
    "collapsed": false
   },
   "outputs": [],
   "source": [
    "def update(i, points, stat_text):\n",
    "    \"\"\" Animation updating function.\n",
    "        Reads next frame, finds clusters and updates coordinates of atoms.\n",
    "    \"\"\"\n",
    "    xyz = read_xyz(xtc)\n",
    "    db.fit(xyz)\n",
    "    X = db.components_\n",
    "    points.figure.suptitle('Frame %d of %d' %(i, n_frames))    \n",
    "    stat_text.set_text('Number of clusters: %d\\nNumber of atoms: %d' %(clusters_number(db),clusters_atoms_number(db)))\n",
    "    points.set_data(X[:,0], X[:,1])\n",
    "    points.set_3d_properties(X[:,2])\n",
    "    return points,stat_text"
   ]
  },
  {
   "cell_type": "code",
   "execution_count": 15,
   "metadata": {
    "collapsed": true
   },
   "outputs": [],
   "source": [
    "def animate_clusters():\n",
    "    \"\"\" Makes possible full animation.\n",
    "        Initializes figure, axes, plot, text. Creates animation and runs it.\n",
    "    \"\"\"\n",
    "    seek_start(xtc)\n",
    "    fig = plt.figure(figsize=(10,4))\n",
    "    ax = fig.add_subplot(121, projection='3d') # 3d-plot axes\n",
    "    ax = set_axes(ax) # configure axes\n",
    "    \n",
    "    points = ax.plot([], [], [],'o')[0]\n",
    "    \n",
    "    params_text = ax.text2D(1.5, 0.7,'eps = %f,\\nminsamples = %d' %(eps,min_samples),\n",
    "                            transform=ax.transAxes) # parameters of the model\n",
    "    stat_text = ax.text2D(1.5, 0.5, \"Number of clusters: 0\\nNumber of atoms: 0\",\n",
    "                          transform=ax.transAxes) # some statistics (quite primitive yet)\n",
    "    \n",
    "    anim = animation.FuncAnimation(fig, func=update,\n",
    "                                   frames=n_frames-1, fargs=(points,stat_text), interval=20, blit=False)\n",
    "    plt.tight_layout() # fits plot to screen\n",
    "    plt.show()"
   ]
  },
  {
   "cell_type": "code",
   "execution_count": null,
   "metadata": {
    "collapsed": false,
    "scrolled": false
   },
   "outputs": [],
   "source": [
    "anim = animate_clusters()"
   ]
  },
  {
   "cell_type": "code",
   "execution_count": null,
   "metadata": {
    "collapsed": false
   },
   "outputs": [],
   "source": [
    "# Writer = animation.writers['ffmpeg']\n",
    "# writer = Writer(fps=5, bitrate=1800)\n",
    "# anim.save('anim_clusters.mp4', writer=writer)"
   ]
  },
  {
   "cell_type": "code",
   "execution_count": null,
   "metadata": {
    "collapsed": true
   },
   "outputs": [],
   "source": [
    "# анимация доступна по ссылке: https://drive.google.com/file/d/0B9n653m4f88BZUNzUElSOS1Uc1k/view?usp=sharing"
   ]
  }
 ],
 "metadata": {
  "kernelspec": {
   "display_name": "Python 3",
   "language": "python",
   "name": "python3"
  },
  "language_info": {
   "codemirror_mode": {
    "name": "ipython",
    "version": 3
   },
   "file_extension": ".py",
   "mimetype": "text/x-python",
   "name": "python",
   "nbconvert_exporter": "python",
   "pygments_lexer": "ipython3",
   "version": "3.4.3"
  }
 },
 "nbformat": 4,
 "nbformat_minor": 0
}
